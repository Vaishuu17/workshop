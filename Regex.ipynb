{
  "nbformat": 4,
  "nbformat_minor": 0,
  "metadata": {
    "colab": {
      "provenance": [],
      "authorship_tag": "ABX9TyOIdMaK/qk/30rYXCryIe29",
      "include_colab_link": true
    },
    "kernelspec": {
      "name": "python3",
      "display_name": "Python 3"
    },
    "language_info": {
      "name": "python"
    }
  },
  "cells": [
    {
      "cell_type": "markdown",
      "metadata": {
        "id": "view-in-github",
        "colab_type": "text"
      },
      "source": [
        "<a href=\"https://colab.research.google.com/github/Vaishuu17/workshop/blob/main/Regex.ipynb\" target=\"_parent\"><img src=\"https://colab.research.google.com/assets/colab-badge.svg\" alt=\"Open In Colab\"/></a>"
      ]
    },
    {
      "cell_type": "markdown",
      "source": [
        "## ***1.Import Libararies::***"
      ],
      "metadata": {
        "id": "HEkyKbusuUMv"
      }
    },
    {
      "cell_type": "code",
      "source": [
        "import re"
      ],
      "metadata": {
        "id": "XRd4mVZXu30_"
      },
      "execution_count": 3,
      "outputs": []
    },
    {
      "cell_type": "markdown",
      "source": [
        "### ***2. Row String***::\n",
        "\n",
        "prints string as it is including escape characters."
      ],
      "metadata": {
        "id": "yx1R7xV4vOz4"
      }
    },
    {
      "cell_type": "code",
      "source": [
        "print(\"Hello\\nworld!\")"
      ],
      "metadata": {
        "colab": {
          "base_uri": "https://localhost:8080/"
        },
        "id": "JEtBtguUvdMf",
        "outputId": "a7ee4bdd-9fda-4532-bb06-c0e27437cf98"
      },
      "execution_count": null,
      "outputs": [
        {
          "output_type": "stream",
          "name": "stdout",
          "text": [
            "Hello\n",
            "world!\n"
          ]
        }
      ]
    },
    {
      "cell_type": "code",
      "source": [
        "print(r\"Hello\\nworld!\")"
      ],
      "metadata": {
        "colab": {
          "base_uri": "https://localhost:8080/"
        },
        "id": "sj-RVf8Lvma-",
        "outputId": "a99962e0-ebba-434f-afd6-3ed63e04aa7f"
      },
      "execution_count": null,
      "outputs": [
        {
          "output_type": "stream",
          "name": "stdout",
          "text": [
            "Hello\\nworld!\n"
          ]
        }
      ]
    },
    {
      "cell_type": "markdown",
      "source": [
        "## ***3. Search Operations::***"
      ],
      "metadata": {
        "id": "LkBMdrbjxuGo"
      }
    },
    {
      "cell_type": "markdown",
      "source": [
        "## **3.1 match()**\n",
        "\n",
        "match returns match object only if pattern is found at the beginning else none"
      ],
      "metadata": {
        "id": "jifpfOIVzg-4"
      }
    },
    {
      "cell_type": "code",
      "source": [
        "test_str = \"123abc456789abc123ABC\""
      ],
      "metadata": {
        "id": "3GbvbUwmzrsE"
      },
      "execution_count": null,
      "outputs": []
    },
    {
      "cell_type": "code",
      "source": [
        "pattern = re.compile(\"abc\")\n",
        "match = re.match(pattern,test_str)\n",
        "print(match)"
      ],
      "metadata": {
        "colab": {
          "base_uri": "https://localhost:8080/"
        },
        "id": "cEBmFEN1z64u",
        "outputId": "70d04c08-616d-483d-eee7-2a3b2f8e4aeb"
      },
      "execution_count": null,
      "outputs": [
        {
          "output_type": "stream",
          "name": "stdout",
          "text": [
            "None\n"
          ]
        }
      ]
    },
    {
      "cell_type": "code",
      "source": [
        "pattern = re.compile('123')\n",
        "match = re.match(pattern,test_str)\n",
        "print(match)"
      ],
      "metadata": {
        "colab": {
          "base_uri": "https://localhost:8080/"
        },
        "id": "wArRS3rF1KRg",
        "outputId": "0e88a238-9b6b-476f-ac37-500f643b6768"
      },
      "execution_count": null,
      "outputs": [
        {
          "output_type": "stream",
          "name": "stdout",
          "text": [
            "<re.Match object; span=(0, 3), match='123'>\n"
          ]
        }
      ]
    },
    {
      "cell_type": "code",
      "source": [
        "match.span()          #span()method of Match object which gives a tuple of start and (end+1) indices"
      ],
      "metadata": {
        "colab": {
          "base_uri": "https://localhost:8080/"
        },
        "id": "WTvja0LA1bvO",
        "outputId": "91eccb38-b335-4862-cf1b-f3885bb9edfc"
      },
      "execution_count": null,
      "outputs": [
        {
          "output_type": "execute_result",
          "data": {
            "text/plain": [
              "(0, 3)"
            ]
          },
          "metadata": {},
          "execution_count": 13
        }
      ]
    },
    {
      "cell_type": "code",
      "source": [
        "match.start()        #start() method of Match object returns starting index"
      ],
      "metadata": {
        "colab": {
          "base_uri": "https://localhost:8080/"
        },
        "id": "9f678tUy2LN7",
        "outputId": "7cdb8b59-1abe-4e7d-dd2f-20c94fe8818a"
      },
      "execution_count": null,
      "outputs": [
        {
          "output_type": "execute_result",
          "data": {
            "text/plain": [
              "0"
            ]
          },
          "metadata": {},
          "execution_count": 14
        }
      ]
    },
    {
      "cell_type": "code",
      "source": [
        "match.end()          #start() method of Match object returnss ending +1 index"
      ],
      "metadata": {
        "colab": {
          "base_uri": "https://localhost:8080/"
        },
        "id": "3hI59VcN2hH6",
        "outputId": "ca20df92-2997-4ce5-86e6-9c3dd7227827"
      },
      "execution_count": null,
      "outputs": [
        {
          "output_type": "execute_result",
          "data": {
            "text/plain": [
              "3"
            ]
          },
          "metadata": {},
          "execution_count": 15
        }
      ]
    },
    {
      "cell_type": "code",
      "source": [
        "match.group()       #group() method of Match object return the search pattern or we can say compile object used to search"
      ],
      "metadata": {
        "colab": {
          "base_uri": "https://localhost:8080/",
          "height": 35
        },
        "id": "RepvKQKN2_ev",
        "outputId": "1db64cf2-3684-4b54-c960-09d50905133f"
      },
      "execution_count": null,
      "outputs": [
        {
          "output_type": "execute_result",
          "data": {
            "text/plain": [
              "'123'"
            ],
            "application/vnd.google.colaboratory.intrinsic+json": {
              "type": "string"
            }
          },
          "metadata": {},
          "execution_count": 16
        }
      ]
    },
    {
      "cell_type": "markdown",
      "source": [
        "***3.2 Search()***\n",
        "\n",
        "search returns only one match object from the string\\text and niglate other\n",
        "```\n",
        "\n"
      ],
      "metadata": {
        "id": "eMj5w-pa3zLq"
      }
    },
    {
      "cell_type": "code",
      "source": [
        "test_str = \"123abc456789abc123ABC\""
      ],
      "metadata": {
        "id": "llla4M9O4ixk"
      },
      "execution_count": null,
      "outputs": []
    },
    {
      "cell_type": "code",
      "source": [
        "pattern = re.compile('abc')\n",
        "match = re.search(pattern,test_str)\n",
        "print(match)"
      ],
      "metadata": {
        "colab": {
          "base_uri": "https://localhost:8080/"
        },
        "id": "65f4jUEp4t7-",
        "outputId": "1c1ed54a-8b7d-4524-902e-15151c217e8a"
      },
      "execution_count": null,
      "outputs": [
        {
          "output_type": "stream",
          "name": "stdout",
          "text": [
            "<re.Match object; span=(3, 6), match='abc'>\n"
          ]
        }
      ]
    },
    {
      "cell_type": "code",
      "source": [
        "txt = 'abc123ABC456ABCpqr'\n",
        "match = re.compile(\"ABC\")\n",
        "re.search(match,txt)"
      ],
      "metadata": {
        "colab": {
          "base_uri": "https://localhost:8080/"
        },
        "id": "cPbKHBcn5NJF",
        "outputId": "af3a534f-2095-4e48-b8b8-8250fdd611d0"
      },
      "execution_count": null,
      "outputs": [
        {
          "output_type": "execute_result",
          "data": {
            "text/plain": [
              "<re.Match object; span=(6, 9), match='ABC'>"
            ]
          },
          "metadata": {},
          "execution_count": 19
        }
      ]
    },
    {
      "cell_type": "markdown",
      "source": [
        "***3.3 findall***\n",
        "\n",
        "findall returns list of all occurances. we can not use span,group,start,end on this\n"
      ],
      "metadata": {
        "id": "nuseAzKS7OJC"
      }
    },
    {
      "cell_type": "code",
      "source": [
        "test_str = \"123abc456789abc123ABC\"\n",
        "pattern = re.compile('abc')\n",
        "matches = re.findall(pattern,test_str)\n",
        "print(matches)"
      ],
      "metadata": {
        "colab": {
          "base_uri": "https://localhost:8080/"
        },
        "id": "uYrNATlc7tw3",
        "outputId": "4f3f40f5-dfec-46f6-f551-214b4ebd3a77"
      },
      "execution_count": null,
      "outputs": [
        {
          "output_type": "stream",
          "name": "stdout",
          "text": [
            "['abc', 'abc']\n"
          ]
        }
      ]
    },
    {
      "cell_type": "code",
      "source": [
        "match.span()"
      ],
      "metadata": {
        "colab": {
          "base_uri": "https://localhost:8080/",
          "height": 141
        },
        "id": "AI-4-2wO8jcn",
        "outputId": "de8e1137-dac1-435d-fad0-caefaf552934"
      },
      "execution_count": null,
      "outputs": [
        {
          "output_type": "error",
          "ename": "AttributeError",
          "evalue": "'list' object has no attribute 'span'",
          "traceback": [
            "\u001b[0;31m---------------------------------------------------------------------------\u001b[0m",
            "\u001b[0;31mAttributeError\u001b[0m                            Traceback (most recent call last)",
            "\u001b[0;32m<ipython-input-21-44021dc51165>\u001b[0m in \u001b[0;36m<cell line: 0>\u001b[0;34m()\u001b[0m\n\u001b[0;32m----> 1\u001b[0;31m \u001b[0mmatch\u001b[0m\u001b[0;34m.\u001b[0m\u001b[0mspan\u001b[0m\u001b[0;34m(\u001b[0m\u001b[0;34m)\u001b[0m\u001b[0;34m\u001b[0m\u001b[0;34m\u001b[0m\u001b[0m\n\u001b[0m",
            "\u001b[0;31mAttributeError\u001b[0m: 'list' object has no attribute 'span'"
          ]
        }
      ]
    },
    {
      "cell_type": "markdown",
      "source": [
        "***3.4 finditer***\n",
        "\n",
        "finditer returns iterable match objects.we can use span,group,start,end on this\n"
      ],
      "metadata": {
        "id": "C2MvgB3x83RH"
      }
    },
    {
      "cell_type": "code",
      "source": [
        "test_str = \"123abc456789abc123ABC\"\n",
        "pattern = re.compile(\"abc\")\n",
        "matches = re.finditer(pattern,test_str)\n",
        "for match in matches:\n",
        "  print(match)"
      ],
      "metadata": {
        "colab": {
          "base_uri": "https://localhost:8080/"
        },
        "id": "GoTZMO889wFl",
        "outputId": "ef426d91-232f-49bc-d0a3-35b184a31672"
      },
      "execution_count": null,
      "outputs": [
        {
          "output_type": "stream",
          "name": "stdout",
          "text": [
            "<re.Match object; span=(3, 6), match='abc'>\n",
            "<re.Match object; span=(12, 15), match='abc'>\n"
          ]
        }
      ]
    },
    {
      "cell_type": "markdown",
      "source": [
        "### ***3.5 sub***\n",
        "\n",
        "sub replaces a string\\text"
      ],
      "metadata": {
        "id": "CJWZ6BHSDcYy"
      }
    },
    {
      "cell_type": "code",
      "source": [
        "test_str = \"123abc456789abc123ABC\"\n",
        "pattern = re.compile(\"abc\")\n",
        "matches = re.sub(pattern,\"xyz\",test_str)\n",
        "print(matches)"
      ],
      "metadata": {
        "colab": {
          "base_uri": "https://localhost:8080/"
        },
        "id": "fcXzvgjlEaAO",
        "outputId": "a4437e05-54b5-486a-c94c-5745e5b1c720"
      },
      "execution_count": null,
      "outputs": [
        {
          "output_type": "stream",
          "name": "stdout",
          "text": [
            "123xyz456789xyz123ABC\n"
          ]
        }
      ]
    },
    {
      "cell_type": "code",
      "source": [
        "text = \"hello world\"\n",
        "pattern = re.compile(\"world\")\n",
        "match = re.sub(pattern,\"python\",text)\n",
        "print(match)"
      ],
      "metadata": {
        "colab": {
          "base_uri": "https://localhost:8080/"
        },
        "id": "hRGgCHpJE5i0",
        "outputId": "5b41164f-8dae-4b7a-8b19-fd89d095e055"
      },
      "execution_count": null,
      "outputs": [
        {
          "output_type": "stream",
          "name": "stdout",
          "text": [
            "hello python\n"
          ]
        }
      ]
    },
    {
      "cell_type": "markdown",
      "source": [
        "***3.6 split***\n",
        "\n",
        "split() spilts a string into a list of substring based on specific pattern [link text](https://)"
      ],
      "metadata": {
        "id": "GS-PdF3iF4B8"
      }
    },
    {
      "cell_type": "code",
      "source": [
        "text = \"apple;banana,orange-grape\"\n",
        "pattern = re.compile(\"[,;-]\")  # Split at semicolons, commas, or hyphens\n",
        "\n",
        "result = re.split(pattern, text)\n",
        "print(result)"
      ],
      "metadata": {
        "colab": {
          "base_uri": "https://localhost:8080/"
        },
        "id": "SYZslUNhF-2o",
        "outputId": "3b6d58df-1a35-4742-cd23-a82a253981db"
      },
      "execution_count": null,
      "outputs": [
        {
          "output_type": "stream",
          "name": "stdout",
          "text": [
            "['apple', 'banana', 'orange', 'grape']\n"
          ]
        }
      ]
    },
    {
      "cell_type": "code",
      "source": [
        "text = \"apple;banana,orange-grape\"\n",
        "pattern = re.compile(\",;\")  # Split at semicolons, commas, or hyphens\n",
        "\n",
        "result = re.split(pattern, text)\n",
        "print(result)"
      ],
      "metadata": {
        "colab": {
          "base_uri": "https://localhost:8080/"
        },
        "id": "DEdJdC1bMTd6",
        "outputId": "1296542e-28fe-4d0a-f73f-48ee76ded5c9"
      },
      "execution_count": null,
      "outputs": [
        {
          "output_type": "stream",
          "name": "stdout",
          "text": [
            "['apple;banana,orange-grape']\n"
          ]
        }
      ]
    },
    {
      "cell_type": "code",
      "source": [
        "text = \"we_are_learning_advance_python\"\n",
        "pattern = re.compile(\"_\")\n",
        "result = re.split(pattern,text)\n",
        "print(result)"
      ],
      "metadata": {
        "colab": {
          "base_uri": "https://localhost:8080/"
        },
        "id": "o1cmHetrMgx-",
        "outputId": "81312571-6b27-4339-9233-232227a33890"
      },
      "execution_count": null,
      "outputs": [
        {
          "output_type": "stream",
          "name": "stdout",
          "text": [
            "['we', 'are', 'learning', 'advance', 'python']\n"
          ]
        }
      ]
    },
    {
      "cell_type": "markdown",
      "source": [
        "\n",
        "\n",
        "```\n",
        "## This is formatted as code\n",
        "```\n",
        "\n",
        "## ***4. Meta Characters::***"
      ],
      "metadata": {
        "id": "EKDB7vTp-jvu"
      }
    },
    {
      "cell_type": "markdown",
      "source": [
        "## ***4.1 dot(.)***\n",
        "\n",
        " ignores \\n character"
      ],
      "metadata": {
        "id": "h2-6WGpGPL5I"
      }
    },
    {
      "cell_type": "code",
      "source": [
        "test_string_1 = \"123abc.456789abc123defGHI.ABC \\n xyz345WXYZ\""
      ],
      "metadata": {
        "id": "kWaOhIFzPcY3"
      },
      "execution_count": null,
      "outputs": []
    },
    {
      "cell_type": "code",
      "source": [
        "pattern = re.compile(\".\")\n",
        "matches = re.finditer(pattern,test_string_1)\n",
        "for match in matches:\n",
        "  print(match)"
      ],
      "metadata": {
        "colab": {
          "base_uri": "https://localhost:8080/"
        },
        "id": "ZFcpkzYrQrGe",
        "outputId": "c9bb2bfd-50f5-4b33-b639-daf9aa6574f1"
      },
      "execution_count": null,
      "outputs": [
        {
          "output_type": "stream",
          "name": "stdout",
          "text": [
            "<re.Match object; span=(0, 1), match='1'>\n",
            "<re.Match object; span=(1, 2), match='2'>\n",
            "<re.Match object; span=(2, 3), match='3'>\n",
            "<re.Match object; span=(3, 4), match='a'>\n",
            "<re.Match object; span=(4, 5), match='b'>\n",
            "<re.Match object; span=(5, 6), match='c'>\n",
            "<re.Match object; span=(6, 7), match='.'>\n",
            "<re.Match object; span=(7, 8), match='4'>\n",
            "<re.Match object; span=(8, 9), match='5'>\n",
            "<re.Match object; span=(9, 10), match='6'>\n",
            "<re.Match object; span=(10, 11), match='7'>\n",
            "<re.Match object; span=(11, 12), match='8'>\n",
            "<re.Match object; span=(12, 13), match='9'>\n",
            "<re.Match object; span=(13, 14), match='a'>\n",
            "<re.Match object; span=(14, 15), match='b'>\n",
            "<re.Match object; span=(15, 16), match='c'>\n",
            "<re.Match object; span=(16, 17), match='1'>\n",
            "<re.Match object; span=(17, 18), match='2'>\n",
            "<re.Match object; span=(18, 19), match='3'>\n",
            "<re.Match object; span=(19, 20), match='d'>\n",
            "<re.Match object; span=(20, 21), match='e'>\n",
            "<re.Match object; span=(21, 22), match='f'>\n",
            "<re.Match object; span=(22, 23), match='G'>\n",
            "<re.Match object; span=(23, 24), match='H'>\n",
            "<re.Match object; span=(24, 25), match='I'>\n",
            "<re.Match object; span=(25, 26), match='.'>\n",
            "<re.Match object; span=(26, 27), match='A'>\n",
            "<re.Match object; span=(27, 28), match='B'>\n",
            "<re.Match object; span=(28, 29), match='C'>\n",
            "<re.Match object; span=(29, 30), match=' '>\n",
            "<re.Match object; span=(31, 32), match=' '>\n",
            "<re.Match object; span=(32, 33), match='x'>\n",
            "<re.Match object; span=(33, 34), match='y'>\n",
            "<re.Match object; span=(34, 35), match='z'>\n",
            "<re.Match object; span=(35, 36), match='3'>\n",
            "<re.Match object; span=(36, 37), match='4'>\n",
            "<re.Match object; span=(37, 38), match='5'>\n",
            "<re.Match object; span=(38, 39), match='W'>\n",
            "<re.Match object; span=(39, 40), match='X'>\n",
            "<re.Match object; span=(40, 41), match='Y'>\n",
            "<re.Match object; span=(41, 42), match='Z'>\n"
          ]
        }
      ]
    },
    {
      "cell_type": "markdown",
      "source": [
        "### ***4.2 carat(^)***\n",
        "\n",
        "Search for pattern at the beginning of the string and stops searching after finding first occurence"
      ],
      "metadata": {
        "id": "W5kd8UsKSmtQ"
      }
    },
    {
      "cell_type": "code",
      "source": [
        "text = \"\"\"Hello World!\n",
        "This is a test.\n",
        "Hello again!\n",
        "Python is fun.\n",
        "Hello Python\"\"\""
      ],
      "metadata": {
        "id": "lHfYp0ZAS2hR"
      },
      "execution_count": null,
      "outputs": []
    },
    {
      "cell_type": "code",
      "source": [
        "text = \"\"\"Hello World!\n",
        "This is a test.\n",
        "Hello again!\n",
        "Python is fun.\n",
        "Hello Python\"\"\"\n",
        "pattern = re.compile(\"Hello\")          # return all the matches\n",
        "matches = re.finditer(pattern,text)\n",
        "for match in matches:\n",
        "  print(match)"
      ],
      "metadata": {
        "colab": {
          "base_uri": "https://localhost:8080/"
        },
        "id": "BEFlJuGiT_MS",
        "outputId": "452d079d-330f-4c9f-e53e-ddaa5106951d"
      },
      "execution_count": null,
      "outputs": [
        {
          "output_type": "stream",
          "name": "stdout",
          "text": [
            "<re.Match object; span=(0, 5), match='Hello'>\n",
            "<re.Match object; span=(29, 34), match='Hello'>\n",
            "<re.Match object; span=(57, 62), match='Hello'>\n"
          ]
        }
      ]
    },
    {
      "cell_type": "code",
      "source": [
        "pattern = re.compile(\"^Hello\")          # single occurance\n",
        "matches = re.finditer(pattern,text)\n",
        "for match in matches:\n",
        "  print(match)"
      ],
      "metadata": {
        "colab": {
          "base_uri": "https://localhost:8080/"
        },
        "id": "k0t6f3spV-GT",
        "outputId": "6e2e9bc1-4cae-4f86-f31b-46b9c83c731e"
      },
      "execution_count": null,
      "outputs": [
        {
          "output_type": "stream",
          "name": "stdout",
          "text": [
            "<re.Match object; span=(0, 5), match='Hello'>\n"
          ]
        }
      ]
    },
    {
      "cell_type": "markdown",
      "source": [
        "### ***4.3 dollar($)***\n",
        "\n",
        "Search for pattern at the end of the string\n"
      ],
      "metadata": {
        "id": "FJXrf1I6WJ4q"
      }
    },
    {
      "cell_type": "code",
      "source": [
        "text = \"\"\"Hello World!\n",
        "This is a test.\n",
        "Hello again!\n",
        "Python is fun.\n",
        "Hello Python\"\"\"\n",
        "pattern = re.compile(\"Python$\")          # return only one occurance and stops after finding one\n",
        "matches = re.finditer(pattern,text)\n",
        "for match in matches:\n",
        "  print(match)"
      ],
      "metadata": {
        "colab": {
          "base_uri": "https://localhost:8080/"
        },
        "id": "OcVlV0O3WgHp",
        "outputId": "844159e0-3697-4a72-8db4-94d133533fdc"
      },
      "execution_count": null,
      "outputs": [
        {
          "output_type": "stream",
          "name": "stdout",
          "text": [
            "<re.Match object; span=(63, 69), match='Python'>\n"
          ]
        }
      ]
    },
    {
      "cell_type": "markdown",
      "source": [
        "## ***5. Character Sets::***"
      ],
      "metadata": {
        "id": "NWAR3FUVX7GA"
      }
    },
    {
      "cell_type": "markdown",
      "source": [
        "## ***5.1 Custom Charactor Sets:***"
      ],
      "metadata": {
        "id": "f07iFuSZYD1X"
      }
    },
    {
      "cell_type": "markdown",
      "source": [
        "### ***5.1.1 Literal Characters***"
      ],
      "metadata": {
        "id": "yS89bIuPzEJ3"
      }
    },
    {
      "cell_type": "code",
      "source": [
        "test_string = \"123abc.4567XYZ$89abc123  def%GHIxyz.ABC#i.\""
      ],
      "metadata": {
        "id": "uhuPsuLTzPJy"
      },
      "execution_count": 1,
      "outputs": []
    },
    {
      "cell_type": "code",
      "source": [
        "pattern = re.compile(\"[aeiou]\")          #search for mentioned characters and return a single character in []\n",
        "\n",
        "matches = re.finditer(pattern,test_string)\n",
        "for match in matches:\n",
        "  print(match)"
      ],
      "metadata": {
        "colab": {
          "base_uri": "https://localhost:8080/"
        },
        "id": "bMoPoVovzaiY",
        "outputId": "9b76113e-bad1-4507-c305-a3c13f143d14"
      },
      "execution_count": 4,
      "outputs": [
        {
          "output_type": "stream",
          "name": "stdout",
          "text": [
            "<re.Match object; span=(3, 4), match='a'>\n",
            "<re.Match object; span=(17, 18), match='a'>\n",
            "<re.Match object; span=(26, 27), match='e'>\n",
            "<re.Match object; span=(40, 41), match='i'>\n"
          ]
        }
      ]
    },
    {
      "cell_type": "code",
      "source": [
        "pattern = re.compile(\"[aeiouAEIOU]\")\n",
        "matches = re.findall(pattern,test_string)\n",
        "print(matches)"
      ],
      "metadata": {
        "colab": {
          "base_uri": "https://localhost:8080/"
        },
        "id": "qTiLPSpq0ERl",
        "outputId": "179f9661-a7df-4e15-da6a-f4a8c6ff7acb"
      },
      "execution_count": 7,
      "outputs": [
        {
          "output_type": "stream",
          "name": "stdout",
          "text": [
            "['a', 'a', 'e', 'I', 'A', 'i']\n"
          ]
        }
      ]
    },
    {
      "cell_type": "code",
      "source": [
        "pattern = re.compile(\"[123456789]\")\n",
        "matches = re.finditer(pattern,test_string)\n",
        "for match in matches:\n",
        "  print(match)"
      ],
      "metadata": {
        "colab": {
          "base_uri": "https://localhost:8080/"
        },
        "id": "AHpOhcKD1iVw",
        "outputId": "a62006a6-319e-4a59-e0ae-de17de7b3711"
      },
      "execution_count": 8,
      "outputs": [
        {
          "output_type": "stream",
          "name": "stdout",
          "text": [
            "<re.Match object; span=(0, 1), match='1'>\n",
            "<re.Match object; span=(1, 2), match='2'>\n",
            "<re.Match object; span=(2, 3), match='3'>\n",
            "<re.Match object; span=(7, 8), match='4'>\n",
            "<re.Match object; span=(8, 9), match='5'>\n",
            "<re.Match object; span=(9, 10), match='6'>\n",
            "<re.Match object; span=(10, 11), match='7'>\n",
            "<re.Match object; span=(15, 16), match='8'>\n",
            "<re.Match object; span=(16, 17), match='9'>\n",
            "<re.Match object; span=(20, 21), match='1'>\n",
            "<re.Match object; span=(21, 22), match='2'>\n",
            "<re.Match object; span=(22, 23), match='3'>\n"
          ]
        }
      ]
    },
    {
      "cell_type": "markdown",
      "source": [
        "### ***5.1.2 Character Renges***"
      ],
      "metadata": {
        "id": "zv7Q2rj22c5w"
      }
    },
    {
      "cell_type": "code",
      "source": [
        "pattern = re.compile(\"[0-9]\")         # we can also specify ranges instead of typing whole character set\n",
        "\n",
        "matches = re.finditer(pattern,test_string)\n",
        "for match in matches:\n",
        "  print(match)"
      ],
      "metadata": {
        "colab": {
          "base_uri": "https://localhost:8080/"
        },
        "id": "XCWWzAOl2psW",
        "outputId": "d273c8eb-9080-4692-8a0f-7d6778662549"
      },
      "execution_count": 9,
      "outputs": [
        {
          "output_type": "stream",
          "name": "stdout",
          "text": [
            "<re.Match object; span=(0, 1), match='1'>\n",
            "<re.Match object; span=(1, 2), match='2'>\n",
            "<re.Match object; span=(2, 3), match='3'>\n",
            "<re.Match object; span=(7, 8), match='4'>\n",
            "<re.Match object; span=(8, 9), match='5'>\n",
            "<re.Match object; span=(9, 10), match='6'>\n",
            "<re.Match object; span=(10, 11), match='7'>\n",
            "<re.Match object; span=(15, 16), match='8'>\n",
            "<re.Match object; span=(16, 17), match='9'>\n",
            "<re.Match object; span=(20, 21), match='1'>\n",
            "<re.Match object; span=(21, 22), match='2'>\n",
            "<re.Match object; span=(22, 23), match='3'>\n"
          ]
        }
      ]
    },
    {
      "cell_type": "code",
      "source": [
        "pattern = re.compile(\"[0-9a-fA-F]\")\n",
        "matches = re.finditer(pattern,test_string)\n",
        "for match in matches:\n",
        "  print(match)"
      ],
      "metadata": {
        "colab": {
          "base_uri": "https://localhost:8080/"
        },
        "id": "bQSiJxBo3A0K",
        "outputId": "3355dcf3-08b6-4ef6-8820-b6f094886c90"
      },
      "execution_count": 11,
      "outputs": [
        {
          "output_type": "stream",
          "name": "stdout",
          "text": [
            "<re.Match object; span=(0, 1), match='1'>\n",
            "<re.Match object; span=(1, 2), match='2'>\n",
            "<re.Match object; span=(2, 3), match='3'>\n",
            "<re.Match object; span=(3, 4), match='a'>\n",
            "<re.Match object; span=(4, 5), match='b'>\n",
            "<re.Match object; span=(5, 6), match='c'>\n",
            "<re.Match object; span=(7, 8), match='4'>\n",
            "<re.Match object; span=(8, 9), match='5'>\n",
            "<re.Match object; span=(9, 10), match='6'>\n",
            "<re.Match object; span=(10, 11), match='7'>\n",
            "<re.Match object; span=(15, 16), match='8'>\n",
            "<re.Match object; span=(16, 17), match='9'>\n",
            "<re.Match object; span=(17, 18), match='a'>\n",
            "<re.Match object; span=(18, 19), match='b'>\n",
            "<re.Match object; span=(19, 20), match='c'>\n",
            "<re.Match object; span=(20, 21), match='1'>\n",
            "<re.Match object; span=(21, 22), match='2'>\n",
            "<re.Match object; span=(22, 23), match='3'>\n",
            "<re.Match object; span=(25, 26), match='d'>\n",
            "<re.Match object; span=(26, 27), match='e'>\n",
            "<re.Match object; span=(27, 28), match='f'>\n",
            "<re.Match object; span=(36, 37), match='A'>\n",
            "<re.Match object; span=(37, 38), match='B'>\n",
            "<re.Match object; span=(38, 39), match='C'>\n"
          ]
        }
      ]
    },
    {
      "cell_type": "markdown",
      "source": [
        "### ***5.1.3 Character Negation***"
      ],
      "metadata": {
        "id": "KrQZuZqT4Ccv"
      }
    },
    {
      "cell_type": "code",
      "source": [
        "print(test_string, end=\"\\n\\n\")\n",
        "\n",
        "pattern  = re.compile(r\"[^aeiouAEIOU0-9%$#. ]\") # for Negation use carat symbol in beginning only in square brackets\n",
        "\n",
        "matches = re.finditer(pattern, test_string)\n",
        "\n",
        "for match in matches:\n",
        "\tprint(match)"
      ],
      "metadata": {
        "colab": {
          "base_uri": "https://localhost:8080/"
        },
        "id": "hsvPhUxb4Nzv",
        "outputId": "0069a787-79b2-4708-9e2e-dcc22e055d95"
      },
      "execution_count": 12,
      "outputs": [
        {
          "output_type": "stream",
          "name": "stdout",
          "text": [
            "123abc.4567XYZ$89abc123  def%GHIxyz.ABC#i.\n",
            "\n",
            "<re.Match object; span=(4, 5), match='b'>\n",
            "<re.Match object; span=(5, 6), match='c'>\n",
            "<re.Match object; span=(11, 12), match='X'>\n",
            "<re.Match object; span=(12, 13), match='Y'>\n",
            "<re.Match object; span=(13, 14), match='Z'>\n",
            "<re.Match object; span=(18, 19), match='b'>\n",
            "<re.Match object; span=(19, 20), match='c'>\n",
            "<re.Match object; span=(25, 26), match='d'>\n",
            "<re.Match object; span=(27, 28), match='f'>\n",
            "<re.Match object; span=(29, 30), match='G'>\n",
            "<re.Match object; span=(30, 31), match='H'>\n",
            "<re.Match object; span=(32, 33), match='x'>\n",
            "<re.Match object; span=(33, 34), match='y'>\n",
            "<re.Match object; span=(34, 35), match='z'>\n",
            "<re.Match object; span=(37, 38), match='B'>\n",
            "<re.Match object; span=(38, 39), match='C'>\n"
          ]
        }
      ]
    },
    {
      "cell_type": "code",
      "source": [
        "print(test_string, end=\"\\n\\n\")\n",
        "\n",
        "pattern  = re.compile(r\"[^a-zA-Z0-9. ]\") #Special characters searching\n",
        "\n",
        "matches = re.finditer(pattern, test_string)\n",
        "\n",
        "for match in matches:\n",
        "\tprint(match)"
      ],
      "metadata": {
        "colab": {
          "base_uri": "https://localhost:8080/"
        },
        "id": "Maw7eAwa7m7l",
        "outputId": "ee9ba126-915e-4bc1-895b-00d86d3d6c89"
      },
      "execution_count": 13,
      "outputs": [
        {
          "output_type": "stream",
          "name": "stdout",
          "text": [
            "123abc.4567XYZ$89abc123  def%GHIxyz.ABC#i.\n",
            "\n",
            "<re.Match object; span=(14, 15), match='$'>\n",
            "<re.Match object; span=(28, 29), match='%'>\n",
            "<re.Match object; span=(39, 40), match='#'>\n"
          ]
        }
      ]
    },
    {
      "cell_type": "markdown",
      "source": [
        "## ***5.2 Predefined Character sets:***"
      ],
      "metadata": {
        "id": "nqjUjPKL8Cdu"
      }
    },
    {
      "cell_type": "markdown",
      "source": [
        "### ***digits***"
      ],
      "metadata": {
        "id": "4Ol89Xq58kKK"
      }
    },
    {
      "cell_type": "code",
      "source": [
        "test_string_1 = \"123abc.4567XYZ$89abc123 def%GHIxyz .ABC#i.\"\n",
        "\n",
        "test_string_2 = \"123abc.4567\\nXYZ$89abc123 def%GHI\\nxyz .ABC#i.\"\n",
        "\n",
        "test_string_3 = 'heyhello 123_ heyho hohey'"
      ],
      "metadata": {
        "id": "BwY6NvLF8slA"
      },
      "execution_count": 14,
      "outputs": []
    },
    {
      "cell_type": "code",
      "source": [
        "pattern = re.compile(\"\\d\")      # it will only print digit. shortcut for printing numbers\n",
        "matches = re.finditer(pattern,test_string_1)\n",
        "for match in matches:\n",
        "  print(match)"
      ],
      "metadata": {
        "colab": {
          "base_uri": "https://localhost:8080/"
        },
        "id": "v6rIxAOd832P",
        "outputId": "7f741090-50d7-4df7-aea7-87b59c73b4b6"
      },
      "execution_count": 15,
      "outputs": [
        {
          "output_type": "stream",
          "name": "stdout",
          "text": [
            "<re.Match object; span=(0, 1), match='1'>\n",
            "<re.Match object; span=(1, 2), match='2'>\n",
            "<re.Match object; span=(2, 3), match='3'>\n",
            "<re.Match object; span=(7, 8), match='4'>\n",
            "<re.Match object; span=(8, 9), match='5'>\n",
            "<re.Match object; span=(9, 10), match='6'>\n",
            "<re.Match object; span=(10, 11), match='7'>\n",
            "<re.Match object; span=(15, 16), match='8'>\n",
            "<re.Match object; span=(16, 17), match='9'>\n",
            "<re.Match object; span=(20, 21), match='1'>\n",
            "<re.Match object; span=(21, 22), match='2'>\n",
            "<re.Match object; span=(22, 23), match='3'>\n"
          ]
        }
      ]
    },
    {
      "cell_type": "markdown",
      "source": [
        "### ***not digits***"
      ],
      "metadata": {
        "id": "lN-LpJ1O9d0o"
      }
    },
    {
      "cell_type": "code",
      "source": [
        "pattern  = re.compile(r\"[\\D]\") #\\D search for everything other than digits in text or string\n",
        "\n",
        "matches = re.finditer(pattern, test_string_1)\n",
        "\n",
        "for match in matches:\n",
        "\tprint(match)"
      ],
      "metadata": {
        "colab": {
          "base_uri": "https://localhost:8080/"
        },
        "id": "smLIZf3E9pMv",
        "outputId": "d98d6d79-b3d9-44b2-85e6-3aa92fd05198"
      },
      "execution_count": 16,
      "outputs": [
        {
          "output_type": "stream",
          "name": "stdout",
          "text": [
            "123abc.4567XYZ$89abc123 def%GHIxyz .ABC#i.\n",
            "\n",
            "<re.Match object; span=(3, 4), match='a'>\n",
            "<re.Match object; span=(4, 5), match='b'>\n",
            "<re.Match object; span=(5, 6), match='c'>\n",
            "<re.Match object; span=(6, 7), match='.'>\n",
            "<re.Match object; span=(11, 12), match='X'>\n",
            "<re.Match object; span=(12, 13), match='Y'>\n",
            "<re.Match object; span=(13, 14), match='Z'>\n",
            "<re.Match object; span=(14, 15), match='$'>\n",
            "<re.Match object; span=(17, 18), match='a'>\n",
            "<re.Match object; span=(18, 19), match='b'>\n",
            "<re.Match object; span=(19, 20), match='c'>\n",
            "<re.Match object; span=(23, 24), match=' '>\n",
            "<re.Match object; span=(24, 25), match='d'>\n",
            "<re.Match object; span=(25, 26), match='e'>\n",
            "<re.Match object; span=(26, 27), match='f'>\n",
            "<re.Match object; span=(27, 28), match='%'>\n",
            "<re.Match object; span=(28, 29), match='G'>\n",
            "<re.Match object; span=(29, 30), match='H'>\n",
            "<re.Match object; span=(30, 31), match='I'>\n",
            "<re.Match object; span=(31, 32), match='x'>\n",
            "<re.Match object; span=(32, 33), match='y'>\n",
            "<re.Match object; span=(33, 34), match='z'>\n",
            "<re.Match object; span=(34, 35), match=' '>\n",
            "<re.Match object; span=(35, 36), match='.'>\n",
            "<re.Match object; span=(36, 37), match='A'>\n",
            "<re.Match object; span=(37, 38), match='B'>\n",
            "<re.Match object; span=(38, 39), match='C'>\n",
            "<re.Match object; span=(39, 40), match='#'>\n",
            "<re.Match object; span=(40, 41), match='i'>\n",
            "<re.Match object; span=(41, 42), match='.'>\n"
          ]
        }
      ]
    },
    {
      "cell_type": "markdown",
      "source": [
        "### ***whitespaces***"
      ],
      "metadata": {
        "id": "_CUMqncS92uL"
      }
    },
    {
      "cell_type": "code",
      "source": [
        "pattern  = re.compile(r\"[\\s]\") #search for whitespaces, space, tab , newline characters comes under whitespaces\n",
        "\n",
        "matches = re.finditer(pattern, test_string_2)\n",
        "\n",
        "for match in matches:\n",
        "\tprint(match)"
      ],
      "metadata": {
        "colab": {
          "base_uri": "https://localhost:8080/"
        },
        "id": "Lv8gLN9s97ye",
        "outputId": "4b629f6c-8347-4511-a9b1-b42c2844be81"
      },
      "execution_count": 17,
      "outputs": [
        {
          "output_type": "stream",
          "name": "stdout",
          "text": [
            "<re.Match object; span=(11, 12), match='\\n'>\n",
            "<re.Match object; span=(24, 25), match=' '>\n",
            "<re.Match object; span=(32, 33), match='\\n'>\n",
            "<re.Match object; span=(36, 37), match=' '>\n"
          ]
        }
      ]
    },
    {
      "cell_type": "markdown",
      "source": [
        "### ***not whitespaces***"
      ],
      "metadata": {
        "id": "au4Zecin-Jss"
      }
    },
    {
      "cell_type": "code",
      "source": [
        "pattern  = re.compile(r\"[\\S]\") #search for other than whitespaces, space, tab , newline characters comes under whitespaces\n",
        "\n",
        "matches = re.finditer(pattern, test_string_2)\n",
        "\n",
        "for match in matches:\n",
        "\tprint(match)"
      ],
      "metadata": {
        "colab": {
          "base_uri": "https://localhost:8080/"
        },
        "id": "Ki5AiJOU-QBg",
        "outputId": "8c9955e5-3075-4fda-fe2c-0e793c0634a0"
      },
      "execution_count": 18,
      "outputs": [
        {
          "output_type": "stream",
          "name": "stdout",
          "text": [
            "<re.Match object; span=(0, 1), match='1'>\n",
            "<re.Match object; span=(1, 2), match='2'>\n",
            "<re.Match object; span=(2, 3), match='3'>\n",
            "<re.Match object; span=(3, 4), match='a'>\n",
            "<re.Match object; span=(4, 5), match='b'>\n",
            "<re.Match object; span=(5, 6), match='c'>\n",
            "<re.Match object; span=(6, 7), match='.'>\n",
            "<re.Match object; span=(7, 8), match='4'>\n",
            "<re.Match object; span=(8, 9), match='5'>\n",
            "<re.Match object; span=(9, 10), match='6'>\n",
            "<re.Match object; span=(10, 11), match='7'>\n",
            "<re.Match object; span=(12, 13), match='X'>\n",
            "<re.Match object; span=(13, 14), match='Y'>\n",
            "<re.Match object; span=(14, 15), match='Z'>\n",
            "<re.Match object; span=(15, 16), match='$'>\n",
            "<re.Match object; span=(16, 17), match='8'>\n",
            "<re.Match object; span=(17, 18), match='9'>\n",
            "<re.Match object; span=(18, 19), match='a'>\n",
            "<re.Match object; span=(19, 20), match='b'>\n",
            "<re.Match object; span=(20, 21), match='c'>\n",
            "<re.Match object; span=(21, 22), match='1'>\n",
            "<re.Match object; span=(22, 23), match='2'>\n",
            "<re.Match object; span=(23, 24), match='3'>\n",
            "<re.Match object; span=(25, 26), match='d'>\n",
            "<re.Match object; span=(26, 27), match='e'>\n",
            "<re.Match object; span=(27, 28), match='f'>\n",
            "<re.Match object; span=(28, 29), match='%'>\n",
            "<re.Match object; span=(29, 30), match='G'>\n",
            "<re.Match object; span=(30, 31), match='H'>\n",
            "<re.Match object; span=(31, 32), match='I'>\n",
            "<re.Match object; span=(33, 34), match='x'>\n",
            "<re.Match object; span=(34, 35), match='y'>\n",
            "<re.Match object; span=(35, 36), match='z'>\n",
            "<re.Match object; span=(37, 38), match='.'>\n",
            "<re.Match object; span=(38, 39), match='A'>\n",
            "<re.Match object; span=(39, 40), match='B'>\n",
            "<re.Match object; span=(40, 41), match='C'>\n",
            "<re.Match object; span=(41, 42), match='#'>\n",
            "<re.Match object; span=(42, 43), match='i'>\n",
            "<re.Match object; span=(43, 44), match='.'>\n"
          ]
        }
      ]
    },
    {
      "cell_type": "markdown",
      "source": [
        "### ***alphanumeric***"
      ],
      "metadata": {
        "id": "skH_mVaf-a8u"
      }
    },
    {
      "cell_type": "code",
      "source": [
        "pattern  = re.compile(r\"[\\w]\") # search for alphabets+nuumerical characters in text\n",
        "\n",
        "matches = re.finditer(pattern, test_string_2)\n",
        "\n",
        "for match in matches:\n",
        "\tprint(match)"
      ],
      "metadata": {
        "colab": {
          "base_uri": "https://localhost:8080/"
        },
        "id": "8j5fKr1v-ggv",
        "outputId": "78bdaa26-7a53-401a-a08e-6db7e8cbb06e"
      },
      "execution_count": 19,
      "outputs": [
        {
          "output_type": "stream",
          "name": "stdout",
          "text": [
            "<re.Match object; span=(0, 1), match='1'>\n",
            "<re.Match object; span=(1, 2), match='2'>\n",
            "<re.Match object; span=(2, 3), match='3'>\n",
            "<re.Match object; span=(3, 4), match='a'>\n",
            "<re.Match object; span=(4, 5), match='b'>\n",
            "<re.Match object; span=(5, 6), match='c'>\n",
            "<re.Match object; span=(7, 8), match='4'>\n",
            "<re.Match object; span=(8, 9), match='5'>\n",
            "<re.Match object; span=(9, 10), match='6'>\n",
            "<re.Match object; span=(10, 11), match='7'>\n",
            "<re.Match object; span=(12, 13), match='X'>\n",
            "<re.Match object; span=(13, 14), match='Y'>\n",
            "<re.Match object; span=(14, 15), match='Z'>\n",
            "<re.Match object; span=(16, 17), match='8'>\n",
            "<re.Match object; span=(17, 18), match='9'>\n",
            "<re.Match object; span=(18, 19), match='a'>\n",
            "<re.Match object; span=(19, 20), match='b'>\n",
            "<re.Match object; span=(20, 21), match='c'>\n",
            "<re.Match object; span=(21, 22), match='1'>\n",
            "<re.Match object; span=(22, 23), match='2'>\n",
            "<re.Match object; span=(23, 24), match='3'>\n",
            "<re.Match object; span=(25, 26), match='d'>\n",
            "<re.Match object; span=(26, 27), match='e'>\n",
            "<re.Match object; span=(27, 28), match='f'>\n",
            "<re.Match object; span=(29, 30), match='G'>\n",
            "<re.Match object; span=(30, 31), match='H'>\n",
            "<re.Match object; span=(31, 32), match='I'>\n",
            "<re.Match object; span=(33, 34), match='x'>\n",
            "<re.Match object; span=(34, 35), match='y'>\n",
            "<re.Match object; span=(35, 36), match='z'>\n",
            "<re.Match object; span=(38, 39), match='A'>\n",
            "<re.Match object; span=(39, 40), match='B'>\n",
            "<re.Match object; span=(40, 41), match='C'>\n",
            "<re.Match object; span=(42, 43), match='i'>\n"
          ]
        }
      ]
    },
    {
      "cell_type": "markdown",
      "source": [
        "### *not alphanumeric*"
      ],
      "metadata": {
        "id": "9J1C9_vH-pK6"
      }
    },
    {
      "cell_type": "code",
      "source": [
        "pattern  = re.compile(r\"[\\W]\") # search for other than alphabets+nuumerical characters in text which includes \\n and special chars and whitespaces\n",
        "\n",
        "matches = re.finditer(pattern, test_string_2)\n",
        "\n",
        "for match in matches:\n",
        "\tprint(match)"
      ],
      "metadata": {
        "colab": {
          "base_uri": "https://localhost:8080/"
        },
        "id": "xAOhagC7-upF",
        "outputId": "eb378456-9e11-45c5-dc91-173c3cacab17"
      },
      "execution_count": 20,
      "outputs": [
        {
          "output_type": "stream",
          "name": "stdout",
          "text": [
            "<re.Match object; span=(6, 7), match='.'>\n",
            "<re.Match object; span=(11, 12), match='\\n'>\n",
            "<re.Match object; span=(15, 16), match='$'>\n",
            "<re.Match object; span=(24, 25), match=' '>\n",
            "<re.Match object; span=(28, 29), match='%'>\n",
            "<re.Match object; span=(32, 33), match='\\n'>\n",
            "<re.Match object; span=(36, 37), match=' '>\n",
            "<re.Match object; span=(37, 38), match='.'>\n",
            "<re.Match object; span=(41, 42), match='#'>\n",
            "<re.Match object; span=(43, 44), match='.'>\n"
          ]
        }
      ]
    },
    {
      "cell_type": "markdown",
      "source": [
        "### ***word boundry***"
      ],
      "metadata": {
        "id": "Pc2eZ20u_A3o"
      }
    },
    {
      "cell_type": "code",
      "source": [
        "test_string_3"
      ],
      "metadata": {
        "colab": {
          "base_uri": "https://localhost:8080/",
          "height": 36
        },
        "id": "k1CKoonr_cqD",
        "outputId": "25e2248e-3466-4d2b-b319-bd9281f5cd5b"
      },
      "execution_count": 21,
      "outputs": [
        {
          "output_type": "execute_result",
          "data": {
            "text/plain": [
              "'heyhello 123_ heyho hohey'"
            ],
            "application/vnd.google.colaboratory.intrinsic+json": {
              "type": "string"
            }
          },
          "metadata": {},
          "execution_count": 21
        }
      ]
    },
    {
      "cell_type": "code",
      "source": [
        "pattern = re.compile(r\"hey\")\n",
        "\n",
        "matches = re.finditer(pattern, test_string_3)\n",
        "\n",
        "for match in matches:\n",
        "\tprint(match)"
      ],
      "metadata": {
        "colab": {
          "base_uri": "https://localhost:8080/"
        },
        "id": "Mwas2FBd_jDd",
        "outputId": "79d0e15c-8200-434a-ec0b-9f2b77f8d8ef"
      },
      "execution_count": 22,
      "outputs": [
        {
          "output_type": "stream",
          "name": "stdout",
          "text": [
            "<re.Match object; span=(0, 3), match='hey'>\n",
            "<re.Match object; span=(14, 17), match='hey'>\n",
            "<re.Match object; span=(22, 25), match='hey'>\n"
          ]
        }
      ]
    },
    {
      "cell_type": "markdown",
      "source": [
        "# ***6. Quantifiers:***"
      ],
      "metadata": {
        "id": "bn1UayC7_x7f"
      }
    },
    {
      "cell_type": "code",
      "source": [
        "test_string_1 = \"no no noo nooo noooothing noo\"\n",
        "\n",
        "test_string_2 = \"The colour of the sky and the color of the ocean are different.\"\n",
        "\n",
        "test_string_3 = \"We can use either http or https to generate URLs.\"\n",
        "\n",
        "test_string_4 = \"aaXaaaXaaaaXaaaaaX\"\n",
        "\n",
        "test_string_5 = \"<div>First div</div><div>Second div</div>\""
      ],
      "metadata": {
        "id": "Rt34bbKfABPP"
      },
      "execution_count": 23,
      "outputs": []
    },
    {
      "cell_type": "markdown",
      "source": [
        "## ***6.1 Greedy***"
      ],
      "metadata": {
        "id": "tPH-NHgqASXn"
      }
    },
    {
      "cell_type": "code",
      "source": [
        "# * is for 0 or more occurences of preceding(pichewala) char\n",
        "pattern = re.compile(r\"noo*\")\n",
        "\n",
        "matches = re.finditer(pattern, test_string_1) # it will check if no(0-o), noo(1-o), nooo(2-o's) a.... and so on until string get terminated\n",
        "\n",
        "for match in matches:\n",
        "\tprint(match)"
      ],
      "metadata": {
        "colab": {
          "base_uri": "https://localhost:8080/"
        },
        "id": "5iYySAB9AavB",
        "outputId": "a1b0fef1-f968-479b-867a-7ef9ede1a0a6"
      },
      "execution_count": 24,
      "outputs": [
        {
          "output_type": "stream",
          "name": "stdout",
          "text": [
            "<re.Match object; span=(0, 2), match='no'>\n",
            "<re.Match object; span=(3, 5), match='no'>\n",
            "<re.Match object; span=(6, 9), match='noo'>\n",
            "<re.Match object; span=(10, 14), match='nooo'>\n",
            "<re.Match object; span=(15, 20), match='noooo'>\n",
            "<re.Match object; span=(26, 29), match='noo'>\n"
          ]
        }
      ]
    },
    {
      "cell_type": "code",
      "source": [
        "# + is for 1 or more occurences of preceding(pichewala) char\n",
        "pattern = re.compile(r\"noo+\")\n",
        "\n",
        "matches = re.finditer(pattern, test_string_1) # it will check if noo(1-o), nooo(2-o's) a.... and so on until string get terminated\n",
        "\n",
        "for match in matches:\n",
        "\tprint(match)"
      ],
      "metadata": {
        "colab": {
          "base_uri": "https://localhost:8080/"
        },
        "id": "T9ZX_5-2AjyQ",
        "outputId": "3d790169-557e-4375-f4f2-38dbd0f828bd"
      },
      "execution_count": 25,
      "outputs": [
        {
          "output_type": "stream",
          "name": "stdout",
          "text": [
            "<re.Match object; span=(6, 9), match='noo'>\n",
            "<re.Match object; span=(10, 14), match='nooo'>\n",
            "<re.Match object; span=(15, 20), match='noooo'>\n",
            "<re.Match object; span=(26, 29), match='noo'>\n"
          ]
        }
      ]
    },
    {
      "cell_type": "code",
      "source": [
        "# ? is for 0 or 1 occurence of preceding(pichewala) char\n",
        "print(test_string_2, end=\"\\n\\n\")\n",
        "\n",
        "pattern = re.compile(r\"colou?r\") # colour, color/ if u is present none or once in string\n",
        "\n",
        "matches = re.finditer(pattern, test_string_2)\n",
        "\n",
        "for match in matches:\n",
        "\tprint(match)"
      ],
      "metadata": {
        "colab": {
          "base_uri": "https://localhost:8080/"
        },
        "id": "3cpKXeaZA0uP",
        "outputId": "b225325e-2788-470e-92ab-f9f73c7596ae"
      },
      "execution_count": 27,
      "outputs": [
        {
          "output_type": "stream",
          "name": "stdout",
          "text": [
            "The colour of the sky and the color of the ocean are different.\n",
            "\n",
            "<re.Match object; span=(4, 10), match='colour'>\n",
            "<re.Match object; span=(30, 35), match='color'>\n"
          ]
        }
      ]
    },
    {
      "cell_type": "code",
      "source": [
        "print(test_string_3, end=\"\\n\\n\")\n",
        "\n",
        "pattern = re.compile(r\"https?\") # http, https\n",
        "\n",
        "matches = re.finditer(pattern, test_string_3)\n",
        "\n",
        "for match in matches:\n",
        "\tprint(match)"
      ],
      "metadata": {
        "colab": {
          "base_uri": "https://localhost:8080/"
        },
        "id": "f6NeLjzcBGaE",
        "outputId": "c4beae6c-7502-4cf9-fb79-0b9c034cb92d"
      },
      "execution_count": 28,
      "outputs": [
        {
          "output_type": "stream",
          "name": "stdout",
          "text": [
            "We can use either http or https to generate URLs.\n",
            "\n",
            "<re.Match object; span=(18, 22), match='http'>\n",
            "<re.Match object; span=(26, 31), match='https'>\n"
          ]
        }
      ]
    },
    {
      "cell_type": "code",
      "source": [
        "# {n} search for exactly n number of occurences in string\n",
        "test_string_4 = 'aaXaaaXaaaaXaaaaaaX'\n",
        "print(test_string_4, end=\"\\n\\n\")\n",
        "\n",
        "pattern = re.compile(r\"a{3}\") # it will search for a's occurring continously thrice\n",
        "\n",
        "matches = re.finditer(pattern, test_string_4)\n",
        "\n",
        "for match in matches:\n",
        "\tprint(match)"
      ],
      "metadata": {
        "colab": {
          "base_uri": "https://localhost:8080/"
        },
        "id": "On-q7kyjBYcL",
        "outputId": "00483cb5-31b2-461b-e31d-ed20dc6e217c"
      },
      "execution_count": 29,
      "outputs": [
        {
          "output_type": "stream",
          "name": "stdout",
          "text": [
            "aaXaaaXaaaaXaaaaaaX\n",
            "\n",
            "<re.Match object; span=(3, 6), match='aaa'>\n",
            "<re.Match object; span=(7, 10), match='aaa'>\n",
            "<re.Match object; span=(12, 15), match='aaa'>\n",
            "<re.Match object; span=(15, 18), match='aaa'>\n"
          ]
        }
      ]
    },
    {
      "cell_type": "code",
      "source": [
        "# {n,m} search for exactly at least n and at most m number of occurences in string\n",
        "print(test_string_4, end=\"\\n\\n\")\n",
        "\n",
        "pattern = re.compile(r\"a{2,5}\") # first search if a is present 5 times or 4 times or 3 or 2\n",
        "\n",
        "matches = re.finditer(pattern, test_string_4)\n",
        "\n",
        "for match in matches:\n",
        "\tprint(match)"
      ],
      "metadata": {
        "colab": {
          "base_uri": "https://localhost:8080/"
        },
        "id": "S5Ka_nrPBjRG",
        "outputId": "fac0df0d-74a5-4e02-e7ef-983ca46be3de"
      },
      "execution_count": 30,
      "outputs": [
        {
          "output_type": "stream",
          "name": "stdout",
          "text": [
            "aaXaaaXaaaaXaaaaaaX\n",
            "\n",
            "<re.Match object; span=(0, 2), match='aa'>\n",
            "<re.Match object; span=(3, 6), match='aaa'>\n",
            "<re.Match object; span=(7, 11), match='aaaa'>\n",
            "<re.Match object; span=(12, 17), match='aaaaa'>\n"
          ]
        }
      ]
    },
    {
      "cell_type": "markdown",
      "source": [
        "# *6.2 Lazy*"
      ],
      "metadata": {
        "id": "_AawnzHlBws0"
      }
    },
    {
      "cell_type": "code",
      "source": [
        "# ? after greedy quantifier search for minimum number of occurrence of that pattern in string\n",
        "print(test_string_1, end=\"\\n\\n\")\n",
        "\n",
        "pattern = re.compile(r\"noo*?\") # ? after greedy quantifier search is equivalent to lazy\n",
        "\"\"\"\n",
        "it will search for no first and return them only if found other it will search for noo  and\n",
        "terminate if found otherwise nooo\n",
        "\"\"\"\n",
        "\n",
        "matches = re.finditer(pattern, test_string_1)\n",
        "\n",
        "for match in matches:\n",
        "\tprint(match)"
      ],
      "metadata": {
        "colab": {
          "base_uri": "https://localhost:8080/"
        },
        "id": "RW-zLg52CLPJ",
        "outputId": "83d9a8d4-ce0d-4de3-a6f3-56be4433ed7f"
      },
      "execution_count": 31,
      "outputs": [
        {
          "output_type": "stream",
          "name": "stdout",
          "text": [
            "no no noo nooo noooothing noo\n",
            "\n",
            "<re.Match object; span=(0, 2), match='no'>\n",
            "<re.Match object; span=(3, 5), match='no'>\n",
            "<re.Match object; span=(6, 8), match='no'>\n",
            "<re.Match object; span=(10, 12), match='no'>\n",
            "<re.Match object; span=(15, 17), match='no'>\n",
            "<re.Match object; span=(26, 28), match='no'>\n"
          ]
        }
      ]
    },
    {
      "cell_type": "code",
      "source": [
        "# +?\n",
        "print(test_string_1, end=\"\\n\\n\")\n",
        "\n",
        "pattern = re.compile(r\"noo+?\") # + search for 1 or more , ? after that tells it is a lazy quantifier so it will search for 1 first then if not terminated then 2..3..4 etc\n",
        "\n",
        "matches = re.finditer(pattern, test_string_1)\n",
        "\n",
        "for match in matches:\n",
        "\tprint(match)"
      ],
      "metadata": {
        "colab": {
          "base_uri": "https://localhost:8080/"
        },
        "id": "Bq7dwLtpCaEb",
        "outputId": "5ef4e633-91bb-4386-f340-f8488dfcd95f"
      },
      "execution_count": 32,
      "outputs": [
        {
          "output_type": "stream",
          "name": "stdout",
          "text": [
            "no no noo nooo noooothing noo\n",
            "\n",
            "<re.Match object; span=(6, 9), match='noo'>\n",
            "<re.Match object; span=(10, 13), match='noo'>\n",
            "<re.Match object; span=(15, 18), match='noo'>\n",
            "<re.Match object; span=(26, 29), match='noo'>\n"
          ]
        }
      ]
    },
    {
      "cell_type": "code",
      "source": [
        "#{n,m}?\n",
        "print(test_string_4, end=\"\\n\\n\")\n",
        "\n",
        "pattern = re.compile(r\"a{2,5}?\") # {n,m} search for n till m , ? after that tells it is a lazy quantifier so it will search for 2 first then if not terminated then 3..4..5 and terminate\n",
        "#❗❗ difference in greedy and lazy qunatifier here\n",
        "matches = re.finditer(pattern, test_string_4)\n",
        "\n",
        "for match in matches:\n",
        "\tprint(match)"
      ],
      "metadata": {
        "colab": {
          "base_uri": "https://localhost:8080/"
        },
        "id": "G49ajscxClZ5",
        "outputId": "2abe4e36-66c2-4dce-81e6-9206f6d4f396"
      },
      "execution_count": 33,
      "outputs": [
        {
          "output_type": "stream",
          "name": "stdout",
          "text": [
            "aaXaaaXaaaaXaaaaaaX\n",
            "\n",
            "<re.Match object; span=(0, 2), match='aa'>\n",
            "<re.Match object; span=(3, 5), match='aa'>\n",
            "<re.Match object; span=(7, 9), match='aa'>\n",
            "<re.Match object; span=(9, 11), match='aa'>\n",
            "<re.Match object; span=(12, 14), match='aa'>\n",
            "<re.Match object; span=(14, 16), match='aa'>\n",
            "<re.Match object; span=(16, 18), match='aa'>\n"
          ]
        }
      ]
    },
    {
      "cell_type": "code",
      "source": [
        "print(test_string_5, end=\"\\n\\n\")\n",
        "\n",
        "pattern = re.compile(r\"<\\w+>.*</\\w+>\") # \\w search for alphanumeric characters .* will tell to match any number of occurence\n",
        "\n",
        "matches = re.findall(pattern, test_string_5)\n",
        "matches"
      ],
      "metadata": {
        "colab": {
          "base_uri": "https://localhost:8080/"
        },
        "id": "DFna5TCtCykK",
        "outputId": "3486333e-b363-441b-9e6f-030c2973cb54"
      },
      "execution_count": 34,
      "outputs": [
        {
          "output_type": "stream",
          "name": "stdout",
          "text": [
            "<div>First div</div><div>Second div</div>\n",
            "\n"
          ]
        },
        {
          "output_type": "execute_result",
          "data": {
            "text/plain": [
              "['<div>First div</div><div>Second div</div>']"
            ]
          },
          "metadata": {},
          "execution_count": 34
        }
      ]
    },
    {
      "cell_type": "code",
      "source": [
        "print(test_string_5, end=\"\\n\\n\")\n",
        "\n",
        "pattern = re.compile(r\"<\\w+>.*?</\\w+>\") # \\w search for alphanumeric characters .* will tell to match 0 or 1 number of occurence\n",
        "\n",
        "matches = re.findall(pattern, test_string_5)\n",
        "matches"
      ],
      "metadata": {
        "colab": {
          "base_uri": "https://localhost:8080/"
        },
        "id": "sxGZaraTC__G",
        "outputId": "d3c39842-fe2d-4681-ccdf-a90a8f6761a9"
      },
      "execution_count": 35,
      "outputs": [
        {
          "output_type": "stream",
          "name": "stdout",
          "text": [
            "<div>First div</div><div>Second div</div>\n",
            "\n"
          ]
        },
        {
          "output_type": "execute_result",
          "data": {
            "text/plain": [
              "['<div>First div</div>', '<div>Second div</div>']"
            ]
          },
          "metadata": {},
          "execution_count": 35
        }
      ]
    }
  ]
}